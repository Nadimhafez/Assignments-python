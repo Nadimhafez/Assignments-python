{
 "cells": [
  {
   "cell_type": "code",
   "execution_count": 24,
   "id": "10b88117-f3f5-4800-996d-18b73744093e",
   "metadata": {},
   "outputs": [
    {
     "name": "stdout",
     "output_type": "stream",
     "text": [
      "Welcome to Guess the Number game!\n",
      "I am thinking of an integer number between 1 and 100. Can you guess what it is?\n"
     ]
    },
    {
     "name": "stdin",
     "output_type": "stream",
     "text": [
      "Enter your guess!\n",
      " 50\n"
     ]
    },
    {
     "name": "stdout",
     "output_type": "stream",
     "text": [
      "Your guess is too high. Guess again!\n"
     ]
    },
    {
     "name": "stdin",
     "output_type": "stream",
     "text": [
      "Enter your guess!\n",
      " 40\n"
     ]
    },
    {
     "name": "stdout",
     "output_type": "stream",
     "text": [
      "Your guess is too high. Guess again!\n"
     ]
    },
    {
     "name": "stdin",
     "output_type": "stream",
     "text": [
      "Enter your guess!\n",
      " 30\n"
     ]
    },
    {
     "name": "stdout",
     "output_type": "stream",
     "text": [
      "Your guess is too low. Guess again!\n"
     ]
    },
    {
     "name": "stdin",
     "output_type": "stream",
     "text": [
      "Enter your guess!\n",
      " 35\n"
     ]
    },
    {
     "name": "stdout",
     "output_type": "stream",
     "text": [
      "Your guess is too high. Guess again!\n"
     ]
    },
    {
     "name": "stdin",
     "output_type": "stream",
     "text": [
      "Enter your guess!\n",
      " 33\n"
     ]
    },
    {
     "name": "stdout",
     "output_type": "stream",
     "text": [
      "Your guess is too low. Guess again!\n"
     ]
    },
    {
     "name": "stdin",
     "output_type": "stream",
     "text": [
      "Enter your guess!\n",
      " 34\n"
     ]
    },
    {
     "name": "stdout",
     "output_type": "stream",
     "text": [
      "Congratulations! You guessed the number correctly!\n"
     ]
    }
   ],
   "source": [
    "#Let's start by importing the random module for the function to run\n",
    "import random\n",
    "#Let's start generating a random number between 10 and 50\n",
    "x = random.randint(1,100)\n",
    "#This is a welcome message and inivtes people to start playing\n",
    "print(\"Welcome to Guess the Number game!\\nI am thinking of an integer number between 1 and 100. Can you guess what it is?\")\n",
    "#We start with a while loop to keep the game going when the answer is wrong, we break the loop when the answer is right\n",
    "while True:\n",
    "    guess= int(input(\"Enter your guess!\\n\"))\n",
    "    if guess > x:\n",
    "        print(\"Your guess is too high. Guess again!\")\n",
    "    elif guess < x:\n",
    "        print(\"Your guess is too low. Guess again!\")\n",
    "    else:\n",
    "        print(\"Congratulations! You guessed the number correctly!\")\n",
    "        break "
   ]
  },
  {
   "cell_type": "code",
   "execution_count": null,
   "id": "662417c6-19b1-4954-adf3-e564bf8750ca",
   "metadata": {},
   "outputs": [],
   "source": []
  }
 ],
 "metadata": {
  "kernelspec": {
   "display_name": "Python 3 (ipykernel)",
   "language": "python",
   "name": "python3"
  },
  "language_info": {
   "codemirror_mode": {
    "name": "ipython",
    "version": 3
   },
   "file_extension": ".py",
   "mimetype": "text/x-python",
   "name": "python",
   "nbconvert_exporter": "python",
   "pygments_lexer": "ipython3",
   "version": "3.11.7"
  }
 },
 "nbformat": 4,
 "nbformat_minor": 5
}
