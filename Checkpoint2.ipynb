{
 "cells": [
  {
   "cell_type": "code",
   "execution_count": 23,
   "id": "10b88117-f3f5-4800-996d-18b73744093e",
   "metadata": {},
   "outputs": [
    {
     "name": "stdout",
     "output_type": "stream",
     "text": [
      "Welcome to Guess the Number game!\n",
      "I am thinking of an integer number between 1 and 100. Can you guess what it is?\n"
     ]
    },
    {
     "name": "stdin",
     "output_type": "stream",
     "text": [
      "Enter your guess!\n",
      " 10.5\n"
     ]
    },
    {
     "ename": "ValueError",
     "evalue": "invalid literal for int() with base 10: '10.5'",
     "output_type": "error",
     "traceback": [
      "\u001b[0;31m---------------------------------------------------------------------------\u001b[0m",
      "\u001b[0;31mValueError\u001b[0m                                Traceback (most recent call last)",
      "Cell \u001b[0;32mIn[23], line 9\u001b[0m\n\u001b[1;32m      7\u001b[0m \u001b[38;5;66;03m#We start with a while loop to keep the game going when the answer is wrong, we break the loop when the answer is right\u001b[39;00m\n\u001b[1;32m      8\u001b[0m \u001b[38;5;28;01mwhile\u001b[39;00m \u001b[38;5;28;01mTrue\u001b[39;00m:\n\u001b[0;32m----> 9\u001b[0m     guess\u001b[38;5;241m=\u001b[39m \u001b[38;5;28mint\u001b[39m(\u001b[38;5;28minput\u001b[39m(\u001b[38;5;124m\"\u001b[39m\u001b[38;5;124mEnter your guess!\u001b[39m\u001b[38;5;130;01m\\n\u001b[39;00m\u001b[38;5;124m\"\u001b[39m))\n\u001b[1;32m     10\u001b[0m     \u001b[38;5;28;01mif\u001b[39;00m guess \u001b[38;5;241m>\u001b[39m x:\n\u001b[1;32m     11\u001b[0m         \u001b[38;5;28mprint\u001b[39m(\u001b[38;5;124m\"\u001b[39m\u001b[38;5;124mYour guess is too high. Guess again!\u001b[39m\u001b[38;5;124m\"\u001b[39m)\n",
      "\u001b[0;31mValueError\u001b[0m: invalid literal for int() with base 10: '10.5'"
     ]
    }
   ],
   "source": [
    "#Let's start by importing the random module for the function to run\n",
    "import random\n",
    "#Let's start generating a random number between 10 and 50\n",
    "x = random.randint(1,100)\n",
    "#This is a welcome message and inivtes people to start playing\n",
    "print(\"Welcome to Guess the Number game!\\nI am thinking of an integer number between 1 and 100. Can you guess what it is?\")\n",
    "#We start with a while loop to keep the game going when the answer is wrong, we break the loop when the answer is right\n",
    "while True:\n",
    "    guess= int(input(\"Enter your guess!\\n\"))\n",
    "    if guess > x:\n",
    "        print(\"Your guess is too high. Guess again!\")\n",
    "    elif guess < x:\n",
    "        print(\"Your guess is too low. Guess again!\")\n",
    "    else:\n",
    "        print(\"Congratulations! You guessed the number correctly!\")\n",
    "        break "
   ]
  },
  {
   "cell_type": "code",
   "execution_count": null,
   "id": "662417c6-19b1-4954-adf3-e564bf8750ca",
   "metadata": {},
   "outputs": [],
   "source": []
  }
 ],
 "metadata": {
  "kernelspec": {
   "display_name": "Python 3 (ipykernel)",
   "language": "python",
   "name": "python3"
  },
  "language_info": {
   "codemirror_mode": {
    "name": "ipython",
    "version": 3
   },
   "file_extension": ".py",
   "mimetype": "text/x-python",
   "name": "python",
   "nbconvert_exporter": "python",
   "pygments_lexer": "ipython3",
   "version": "3.11.7"
  }
 },
 "nbformat": 4,
 "nbformat_minor": 5
}
